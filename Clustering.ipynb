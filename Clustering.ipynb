{
  "cells": [
    {
      "cell_type": "markdown",
      "source": [
        "# Installs and imports"
      ],
      "metadata": {
        "id": "58g4cJ6lYSV5"
      }
    },
    {
      "cell_type": "code",
      "execution_count": null,
      "metadata": {
        "id": "moPvddlgtVIf"
      },
      "outputs": [],
      "source": [
        "%%capture\n",
        "!pip install \"tensorflow-text==2.11.*\"\n",
        "#!pip install torch==2.1.0\n",
        "#!pip install transformers"
      ]
    },
    {
      "cell_type": "code",
      "source": [
        "#from transformers import AutoTokenizer, AutoModel\n",
        "from sklearn.metrics.pairwise import cosine_similarity\n",
        "import numpy as np\n",
        "from sklearn.feature_extraction.text import TfidfVectorizer\n",
        "import pandas as pd\n",
        "import numpy as np\n",
        "import torch\n",
        "from collections import Counter"
      ],
      "metadata": {
        "id": "Pzw6hlgB0B1o"
      },
      "execution_count": null,
      "outputs": []
    },
    {
      "cell_type": "code",
      "execution_count": null,
      "metadata": {
        "id": "waGnL-sMIufl"
      },
      "outputs": [],
      "source": [
        "corpus = pd.read_json('/content/Archive.json')"
      ]
    },
    {
      "cell_type": "markdown",
      "source": [
        "# Save the model"
      ],
      "metadata": {
        "id": "U7LYTR7iaG0o"
      }
    },
    {
      "cell_type": "code",
      "source": [
        "import joblib"
      ],
      "metadata": {
        "id": "S-W3BIC6aMqM"
      },
      "execution_count": null,
      "outputs": []
    },
    {
      "cell_type": "code",
      "source": [
        "joblib.dump(clust, \"clustering_model.pkl\")"
      ],
      "metadata": {
        "colab": {
          "base_uri": "https://localhost:8080/"
        },
        "id": "5dIRbbq7aKeI",
        "outputId": "23733586-c0da-4e05-a657-30a6ca7dcc7b"
      },
      "execution_count": null,
      "outputs": [
        {
          "output_type": "execute_result",
          "data": {
            "text/plain": [
              "['clustering_model.pkl']"
            ]
          },
          "metadata": {},
          "execution_count": 206
        }
      ]
    },
    {
      "cell_type": "code",
      "source": [
        "joblib.dump(tfidf, \"tfidf_model.pkl\")"
      ],
      "metadata": {
        "colab": {
          "base_uri": "https://localhost:8080/"
        },
        "id": "Mj2NukIsa5GL",
        "outputId": "655e7ba4-9dea-478c-c3db-bfc791fcf76d"
      },
      "execution_count": null,
      "outputs": [
        {
          "output_type": "execute_result",
          "data": {
            "text/plain": [
              "['tfidf_model.pkl']"
            ]
          },
          "metadata": {},
          "execution_count": 208
        }
      ]
    },
    {
      "cell_type": "code",
      "source": [
        "clustering_model = joblib.load(\"clustering_model.pkl\")"
      ],
      "metadata": {
        "id": "wZsh728JaUU7"
      },
      "execution_count": null,
      "outputs": []
    },
    {
      "cell_type": "code",
      "source": [
        "tfidf_model = joblib.load(\"tfidf_model.pkl\")"
      ],
      "metadata": {
        "id": "MIs92r1nbCAe"
      },
      "execution_count": null,
      "outputs": []
    },
    {
      "cell_type": "markdown",
      "metadata": {
        "id": "R13qQmJxRNVl"
      },
      "source": [
        "# Hierarchical Agglomerative Clustering"
      ]
    },
    {
      "cell_type": "code",
      "execution_count": null,
      "metadata": {
        "id": "qhu_vkrcRwsJ"
      },
      "outputs": [],
      "source": [
        "import matplotlib as plt"
      ]
    },
    {
      "cell_type": "code",
      "execution_count": null,
      "metadata": {
        "id": "nrn9j6vvRbi_"
      },
      "outputs": [],
      "source": [
        "%%capture\n",
        "!pip install sentence_transformers funcy pickle5"
      ]
    },
    {
      "cell_type": "code",
      "execution_count": null,
      "metadata": {
        "id": "63pkhdtoTQFl"
      },
      "outputs": [],
      "source": [
        "import pandas as pd\n",
        "import numpy as np\n",
        "from sentence_transformers import SentenceTransformer\n",
        "import math"
      ]
    },
    {
      "cell_type": "code",
      "execution_count": null,
      "metadata": {
        "id": "f3TFxBKbTcve"
      },
      "outputs": [],
      "source": [
        "from collections import defaultdict\n",
        "import numpy as np\n",
        "from joblib import Parallel, delayed\n",
        "from funcy import log_durations\n",
        "import logging\n",
        "from tqdm import tqdm\n",
        "import math\n",
        "import numpy as np\n",
        "import torch\n",
        "from joblib import delayed\n",
        "from tqdm import tqdm\n",
        "from torch import Tensor\n",
        "import pickle5 as pickle\n",
        "import os"
      ]
    },
    {
      "cell_type": "code",
      "execution_count": null,
      "metadata": {
        "id": "ZJYtPh06Tdjb"
      },
      "outputs": [],
      "source": [
        "def get_embeddings(ids, embeddings):\n",
        "    return np.array([embeddings[idx] for idx in ids])\n",
        "\n",
        "\n",
        "def reorder_and_filter_cluster(\n",
        "    cluster_idx, cluster, cluster_embeddings, cluster_head_embedding, threshold\n",
        "):\n",
        "    cos_scores = cos_sim(cluster_head_embedding, cluster_embeddings)\n",
        "    sorted_vals, indices = torch.sort(cos_scores[0], descending=True)\n",
        "    bigger_than_threshold = sorted_vals > threshold\n",
        "    indices = indices[bigger_than_threshold]\n",
        "    sorted_vals = sorted_vals.numpy()\n",
        "    return cluster_idx, [(cluster[i][0], sorted_vals[i]) for i in indices]\n",
        "\n",
        "\n",
        "def get_ids(cluster):\n",
        "    return [transaction[0] for transaction in cluster]\n",
        "\n",
        "\n",
        "def reorder_and_filter_clusters(clusters, embeddings, threshold, parallel):\n",
        "    results = parallel(\n",
        "        delayed(reorder_and_filter_cluster)(\n",
        "            cluster_idx,\n",
        "            cluster,\n",
        "            get_embeddings(get_ids(cluster), embeddings),\n",
        "            get_embeddings([cluster_idx], embeddings),\n",
        "            threshold,\n",
        "        )\n",
        "        for cluster_idx, cluster in tqdm(clusters.items())\n",
        "    )\n",
        "\n",
        "    clusters = {k: v for k, v in results}\n",
        "\n",
        "    return clusters\n",
        "\n",
        "\n",
        "def get_clustured_ids(clusters):\n",
        "    clustered_ids = set(\n",
        "        [transaction[0] for cluster in clusters.values() for transaction in cluster]\n",
        "    )\n",
        "    clustered_ids |= set(clusters.keys())\n",
        "    return clustered_ids\n",
        "\n",
        "\n",
        "def get_clusters_ids(clusters):\n",
        "    return list(clusters.keys())\n",
        "\n",
        "\n",
        "def get_unclustured_ids(ids, clusters):\n",
        "    clustered_ids = get_clustured_ids(clusters)\n",
        "    unclustered_ids = list(set(ids) - clustered_ids)\n",
        "    return unclustered_ids\n",
        "\n",
        "\n",
        "def sort_clusters(clusters):\n",
        "    return dict(\n",
        "        sorted(clusters.items(), key=lambda x: len(x[1]), reverse=True)\n",
        "    )  # sort based on size\n",
        "\n",
        "\n",
        "def sort_cluster(cluster):\n",
        "    return list(\n",
        "        sorted(cluster, key=lambda x: x[1], reverse=True)\n",
        "    )  # sort based on similarity\n",
        "\n",
        "\n",
        "def filter_clusters(clusters, min_cluster_size):\n",
        "    return {k: v for k, v in clusters.items() if len(v) >= min_cluster_size}\n",
        "\n",
        "\n",
        "def unique(collection):\n",
        "    return list(dict.fromkeys(collection))\n",
        "\n",
        "\n",
        "def unique_txs(collection):\n",
        "    seen = set()\n",
        "    return [x for x in collection if not (x[0] in seen or seen.add(x[0]))]\n",
        "\n",
        "\n",
        "def write_pickle(data, path):\n",
        "    os.makedirs(os.path.dirname(path), exist_ok=True)\n",
        "    with open(path, \"wb\") as f:\n",
        "        pickle.dump(data, f, protocol=pickle.HIGHEST_PROTOCOL)\n",
        "\n",
        "\n",
        "def load_pickle(path):\n",
        "    with open(path, \"rb\") as f:\n",
        "        return pickle.load(f)\n",
        "\n",
        "\n",
        "def chunk(txs, chunk_size):\n",
        "    n = math.ceil(len(txs) / chunk_size)\n",
        "    k, m = divmod(len(txs), n)\n",
        "    return (txs[i * k + min(i, m) : (i + 1) * k + min(i + 1, m)] for i in range(n))\n",
        "\n",
        "\n",
        "\n",
        "def online_community_detection(\n",
        "    ids,\n",
        "    embeddings,\n",
        "    clusters=None,\n",
        "    threshold=0.7,\n",
        "    min_cluster_size=3,\n",
        "    chunk_size=2500,\n",
        "    iterations=10,\n",
        "    cores=1,\n",
        "):\n",
        "    if clusters is None:\n",
        "        clusters = {}\n",
        "\n",
        "    with Parallel(n_jobs=cores) as parallel:\n",
        "        for iteration in range(iterations):\n",
        "            print(\"1. Nearest cluster\")\n",
        "            unclustered_ids = get_unclustured_ids(ids, clusters)\n",
        "            cluster_ids = list(clusters.keys())\n",
        "            print(\"Unclustured\", len(unclustered_ids))\n",
        "            print(\"Clusters\", len(cluster_ids))\n",
        "            clusters = nearest_cluster(\n",
        "                unclustered_ids,\n",
        "                embeddings,\n",
        "                clusters,\n",
        "                chunk_size=chunk_size,\n",
        "                parallel=parallel,\n",
        "            )\n",
        "            print(\"\\n\\n\")\n",
        "\n",
        "            print(\"2. Create new clusters\")\n",
        "            unclustered_ids = get_unclustured_ids(ids, clusters)\n",
        "            print(\"Unclustured\", len(unclustered_ids))\n",
        "            new_clusters = create_clusters(\n",
        "                unclustered_ids,\n",
        "                embeddings,\n",
        "                clusters={},\n",
        "                min_cluster_size=3,\n",
        "                chunk_size=chunk_size,\n",
        "                threshold=threshold,\n",
        "                parallel=parallel,\n",
        "            )\n",
        "            new_cluster_ids = list(new_clusters.keys())\n",
        "            print(\"\\n\\n\")\n",
        "\n",
        "            print(\"3. Merge new clusters\", len(new_cluster_ids))\n",
        "            max_clusters_size = 25000\n",
        "            while True:\n",
        "                new_cluster_ids = list(new_clusters.keys())\n",
        "                old_new_cluster_ids = new_cluster_ids\n",
        "                try:\n",
        "                  new_clusters = create_clusters(\n",
        "                      new_cluster_ids,\n",
        "                      embeddings,\n",
        "                      new_clusters,\n",
        "                      min_cluster_size=1,\n",
        "                      chunk_size=max_clusters_size,\n",
        "                      threshold=threshold,\n",
        "                      parallel=parallel,\n",
        "                  )\n",
        "                except:\n",
        "                  return clusters\n",
        "                new_clusters = filter_clusters(new_clusters, 2)\n",
        "\n",
        "                new_cluster_ids = list(new_clusters.keys())\n",
        "                print(\"New merged clusters\", len(new_cluster_ids))\n",
        "                if len(old_new_cluster_ids) < max_clusters_size:\n",
        "                    break\n",
        "\n",
        "            new_clusters = filter_clusters(new_clusters, min_cluster_size)\n",
        "            print(\n",
        "                f\"New clusters with min community size >= {min_cluster_size}\",\n",
        "                len(new_clusters),\n",
        "            )\n",
        "            clusters = {**new_clusters, **clusters}\n",
        "            print(\"Total clusters\", len(clusters))\n",
        "            clusters = sort_clusters(clusters)\n",
        "            print(\"\\n\\n\")\n",
        "\n",
        "            print(\"4. Nearest cluster\")\n",
        "            unclustered_ids = get_unclustured_ids(ids, clusters)\n",
        "            cluster_ids = list(clusters.keys())\n",
        "            print(\"Unclustured\", len(unclustered_ids))\n",
        "            print(\"Clusters\", len(cluster_ids))\n",
        "            clusters = nearest_cluster(\n",
        "                unclustered_ids,\n",
        "                embeddings,\n",
        "                clusters,\n",
        "                chunk_size=chunk_size,\n",
        "                parallel=parallel,\n",
        "            )\n",
        "            clusters = sort_clusters(clusters)\n",
        "\n",
        "            unclustered_ids = get_unclustured_ids(ids, clusters)\n",
        "            clustured_ids = get_clustured_ids(clusters)\n",
        "            print(\"Clustured\", len(clustured_ids))\n",
        "            print(\"Unclustured\", len(unclustered_ids))\n",
        "            print(\n",
        "                f\"Percentage clustured {len(clustured_ids) / (len(clustured_ids) + len(unclustered_ids)) * 100:.2f}%\"\n",
        "            )\n",
        "\n",
        "            print(\"\\n\\n\")\n",
        "    return clusters\n",
        "\n",
        "\n",
        "def get_ids(cluster):\n",
        "    return [transaction[0] for transaction in cluster]\n",
        "\n",
        "\n",
        "def nearest_cluster_chunk(\n",
        "    chunk_ids, chunk_embeddings, cluster_ids, cluster_embeddings, threshold\n",
        "):\n",
        "    cos_scores = cos_sim(chunk_embeddings, cluster_embeddings)\n",
        "    top_val_large, top_idx_large = cos_scores.topk(k=1, largest=True)\n",
        "    top_idx_large = top_idx_large[:, 0].tolist()\n",
        "    top_val_large = top_val_large[:, 0].tolist()\n",
        "    cluster_assignment = []\n",
        "    for i, (score, idx) in enumerate(zip(top_val_large, top_idx_large)):\n",
        "        cluster_id = cluster_ids[idx]\n",
        "        if score < threshold:\n",
        "            cluster_id = None\n",
        "        cluster_assignment.append(((chunk_ids[i], score), cluster_id))\n",
        "    return cluster_assignment\n",
        "\n",
        "\n",
        "def nearest_cluster(\n",
        "    transaction_ids,\n",
        "    embeddings,\n",
        "    clusters=None,\n",
        "    parallel=None,\n",
        "    threshold=0.75,\n",
        "    chunk_size=2500,\n",
        "):\n",
        "    cluster_ids = list(clusters.keys())\n",
        "    if len(cluster_ids) == 0:\n",
        "        return clusters\n",
        "    cluster_embeddings = get_embeddings(cluster_ids, embeddings)\n",
        "\n",
        "    c = list(chunk(transaction_ids, chunk_size))\n",
        "\n",
        "    with log_durations(logging.info, \"Parallel jobs nearest cluster\"):\n",
        "        out = parallel(\n",
        "            delayed(nearest_cluster_chunk)(\n",
        "                chunk_ids,\n",
        "                get_embeddings(chunk_ids, embeddings),\n",
        "                cluster_ids,\n",
        "                cluster_embeddings,\n",
        "                threshold,\n",
        "            )\n",
        "            for chunk_ids in tqdm(c)\n",
        "        )\n",
        "        cluster_assignment = [assignment for sublist in out for assignment in sublist]\n",
        "\n",
        "    for (transaction_id, similarity), cluster_id in cluster_assignment:\n",
        "        if cluster_id is None:\n",
        "            continue\n",
        "        clusters[cluster_id].append(\n",
        "            (transaction_id, similarity)\n",
        "        )  # TODO sort in right order\n",
        "\n",
        "    clusters = {\n",
        "        cluster_id: unique_txs(sort_cluster(cluster))\n",
        "        for cluster_id, cluster in clusters.items()\n",
        "    }  # Sort based on similarity\n",
        "\n",
        "    return clusters\n",
        "\n",
        "\n",
        "def create_clusters(\n",
        "    ids,\n",
        "    embeddings,\n",
        "    clusters=None,\n",
        "    parallel=None,\n",
        "    min_cluster_size=3,\n",
        "    threshold=0.75,\n",
        "    chunk_size=2500,\n",
        "):\n",
        "    to_cluster_ids = np.array(ids)\n",
        "    np.random.shuffle(\n",
        "        to_cluster_ids\n",
        "    )  # TODO evaluate performance without, try sorted list\n",
        "\n",
        "    c = list(chunk(to_cluster_ids, chunk_size))\n",
        "\n",
        "    with log_durations(logging.info, \"Parallel jobs create clusters\"):\n",
        "        out = parallel(\n",
        "            delayed(fast_clustering)(\n",
        "                chunk_ids,\n",
        "                get_embeddings(chunk_ids, embeddings),\n",
        "                threshold,\n",
        "                min_cluster_size,\n",
        "            )\n",
        "            for chunk_ids in tqdm(c)\n",
        "        )\n",
        "\n",
        "    # Combine output\n",
        "    new_clusters = {}\n",
        "    for out_clusters in out:\n",
        "        for idx, cluster in out_clusters.items():\n",
        "            # new_clusters[idx] = unique([(idx, 1)] + new_clusters.get(idx, []) + cluster)\n",
        "            new_clusters[idx] = unique_txs(cluster + new_clusters.get(idx, []))\n",
        "\n",
        "    # Add ids from old cluster to new cluster\n",
        "    for cluster_idx, cluster in new_clusters.items():\n",
        "        community_extended = []\n",
        "        for (idx, similarity) in cluster:\n",
        "            community_extended += [(idx, similarity)] + clusters.get(idx, [])\n",
        "        new_clusters[cluster_idx] = unique_txs(community_extended)\n",
        "\n",
        "    new_clusters = reorder_and_filter_clusters(\n",
        "        new_clusters, embeddings, threshold, parallel\n",
        "    )  # filter to keep only the relevant\n",
        "    new_clusters = sort_clusters(new_clusters)\n",
        "\n",
        "    clustered_ids = set()\n",
        "    for idx, cluster_ids in new_clusters.items():\n",
        "        filtered = set(cluster_ids) - clustered_ids\n",
        "        cluster_ids = [\n",
        "            cluster_idx for cluster_idx in cluster_ids if cluster_idx in filtered\n",
        "        ]\n",
        "        new_clusters[idx] = cluster_ids\n",
        "        clustered_ids |= set(cluster_ids)\n",
        "\n",
        "    new_clusters = filter_clusters(new_clusters, min_cluster_size)\n",
        "    new_clusters = sort_clusters(new_clusters)\n",
        "    return new_clusters\n",
        "\n",
        "\n",
        "def fast_clustering(ids, embeddings, threshold=0.70, min_cluster_size=10):\n",
        "    \"\"\"\n",
        "    Function for Fast Clustering\n",
        "\n",
        "    Finds in the embeddings all communities, i.e. embeddings that are close (closer than threshold).\n",
        "    \"\"\"\n",
        "\n",
        "    # Compute cosine similarity scores\n",
        "    cos_scores = cos_sim(embeddings, embeddings)\n",
        "\n",
        "    # Step 1) Create clusters where similarity is bigger than threshold\n",
        "    bigger_than_threshold = cos_scores >= threshold\n",
        "    indices = bigger_than_threshold.nonzero()\n",
        "\n",
        "    cos_scores = cos_scores.numpy()\n",
        "\n",
        "    extracted_clusters = defaultdict(lambda: [])\n",
        "    for row, col in indices.tolist():\n",
        "        extracted_clusters[ids[row]].append((ids[col], cos_scores[row, col]))\n",
        "\n",
        "    extracted_clusters = sort_clusters(extracted_clusters)  # FIXME\n",
        "\n",
        "    # Step 2) Remove overlapping clusters\n",
        "    unique_clusters = {}\n",
        "    extracted_ids = set()\n",
        "\n",
        "    for cluster_id, cluster in extracted_clusters.items():\n",
        "        add_cluster = True\n",
        "        for transaction in cluster:\n",
        "            if transaction[0] in extracted_ids:\n",
        "                add_cluster = False\n",
        "                break\n",
        "\n",
        "        if add_cluster:\n",
        "            unique_clusters[cluster_id] = cluster\n",
        "            for transaction in cluster:\n",
        "                extracted_ids.add(transaction[0])\n",
        "\n",
        "    new_clusters = {}\n",
        "    for cluster_id, cluster in unique_clusters.items():\n",
        "        community_extended = []\n",
        "        for idx in cluster:\n",
        "            community_extended.append(idx)\n",
        "        new_clusters[cluster_id] = unique_txs(community_extended)\n",
        "\n",
        "    new_clusters = filter_clusters(new_clusters, min_cluster_size)\n",
        "\n",
        "    return new_clusters\n"
      ]
    },
    {
      "cell_type": "code",
      "source": [
        "def cos_sim(a: Tensor, b: Tensor):\n",
        "    \"\"\"\n",
        "    Computes the cosine similarity cos_sim(a[i], b[j]) for all i and j.\n",
        "    :return: Matrix with res[i][j]  = cos_sim(a[i], b[j])\n",
        "    \"\"\"\n",
        "    if not isinstance(a, torch.Tensor):\n",
        "        a = torch.tensor(np.array(a))\n",
        "\n",
        "    if not isinstance(b, torch.Tensor):\n",
        "        b = torch.tensor(np.array(b))\n",
        "\n",
        "    if len(a.shape) == 1:\n",
        "        a = a.unsqueeze(0)\n",
        "\n",
        "    if len(b.shape) == 1:\n",
        "        b = b.unsqueeze(0)\n",
        "\n",
        "    a_norm = torch.nn.functional.normalize(a, p=2, dim=1)\n",
        "    b_norm = torch.nn.functional.normalize(b, p=2, dim=1)\n",
        "    return torch.mm(a_norm, b_norm.transpose(0, 1))"
      ],
      "metadata": {
        "id": "tVE_ukAxwZPi"
      },
      "execution_count": null,
      "outputs": []
    },
    {
      "cell_type": "code",
      "source": [
        "ids = corpus.DocId"
      ],
      "metadata": {
        "id": "Ktz6-TIavsBu"
      },
      "execution_count": null,
      "outputs": []
    },
    {
      "cell_type": "code",
      "source": [
        "corpus.columns"
      ],
      "metadata": {
        "colab": {
          "base_uri": "https://localhost:8080/"
        },
        "id": "Yr7UuBhEYUts",
        "outputId": "69ab9115-58d8-4e0b-8389-f1c6df8e9585"
      },
      "execution_count": null,
      "outputs": [
        {
          "output_type": "execute_result",
          "data": {
            "text/plain": [
              "Index(['DocId', 'Title', 'Date', 'Authors', 'Abstract', 'Embeddings', 'Year',\n",
              "       'Month', 'Link', 'TandA', 'cluster_id', 'Keywords_new', 'DocKeywords'],\n",
              "      dtype='object')"
            ]
          },
          "metadata": {},
          "execution_count": 16
        }
      ]
    },
    {
      "cell_type": "code",
      "execution_count": null,
      "metadata": {
        "id": "jBI-0W9UWS77"
      },
      "outputs": [],
      "source": [
        "embeddings = {idx: np.array(corpus[corpus['DocId']==idx].iloc[0]['Embeddings'][0]) for idx in ids}"
      ]
    },
    {
      "cell_type": "code",
      "execution_count": null,
      "metadata": {
        "colab": {
          "base_uri": "https://localhost:8080/"
        },
        "id": "ATzPfzaTX7E6",
        "outputId": "ce07b30e-3949-4473-c14d-25cf17a906bc"
      },
      "outputs": [
        {
          "output_type": "execute_result",
          "data": {
            "text/plain": [
              "20000"
            ]
          },
          "metadata": {},
          "execution_count": 18
        }
      ],
      "source": [
        "len(embeddings)"
      ]
    },
    {
      "cell_type": "code",
      "source": [
        "clusters = {}\n",
        "clusters = online_community_detection(ids, embeddings, clusters, threshold = 0.5, chunk_size=5000)"
      ],
      "metadata": {
        "colab": {
          "base_uri": "https://localhost:8080/"
        },
        "id": "-PmDP25CZNDp",
        "outputId": "f5d41426-945a-4551-db96-35afd47f8115"
      },
      "execution_count": null,
      "outputs": [
        {
          "output_type": "stream",
          "name": "stdout",
          "text": [
            "1. Nearest cluster\n",
            "Unclustured 20000\n",
            "Clusters 0\n",
            "\n",
            "\n",
            "\n",
            "2. Create new clusters\n",
            "Unclustured 20000\n"
          ]
        },
        {
          "output_type": "stream",
          "name": "stderr",
          "text": [
            "100%|██████████| 4/4 [00:09<00:00,  2.27s/it]\n",
            "100%|██████████| 1117/1117 [00:01<00:00, 1011.87it/s]\n"
          ]
        },
        {
          "output_type": "stream",
          "name": "stdout",
          "text": [
            "\n",
            "\n",
            "\n",
            "3. Merge new clusters 1117\n"
          ]
        },
        {
          "output_type": "stream",
          "name": "stderr",
          "text": [
            "100%|██████████| 1/1 [00:00<00:00, 20.48it/s]\n",
            "100%|██████████| 643/643 [00:00<00:00, 2261.74it/s]\n"
          ]
        },
        {
          "output_type": "stream",
          "name": "stdout",
          "text": [
            "New merged clusters 643\n",
            "New clusters with min community size >= 3 643\n",
            "Total clusters 643\n",
            "\n",
            "\n",
            "\n",
            "4. Nearest cluster\n",
            "Unclustured 14042\n",
            "Clusters 643\n"
          ]
        },
        {
          "output_type": "stream",
          "name": "stderr",
          "text": [
            "100%|██████████| 3/3 [00:00<00:00, 10.12it/s]\n"
          ]
        },
        {
          "output_type": "stream",
          "name": "stdout",
          "text": [
            "Clustured 5970\n",
            "Unclustured 14030\n",
            "Percentage clustured 29.85%\n",
            "\n",
            "\n",
            "\n",
            "1. Nearest cluster\n",
            "Unclustured 14030\n",
            "Clusters 643\n"
          ]
        },
        {
          "output_type": "stream",
          "name": "stderr",
          "text": [
            "100%|██████████| 3/3 [00:00<00:00, 10.79it/s]\n"
          ]
        },
        {
          "output_type": "stream",
          "name": "stdout",
          "text": [
            "\n",
            "\n",
            "\n",
            "2. Create new clusters\n",
            "Unclustured 14030\n"
          ]
        },
        {
          "output_type": "stream",
          "name": "stderr",
          "text": [
            "100%|██████████| 3/3 [00:02<00:00,  1.28it/s]\n",
            "100%|██████████| 890/890 [00:00<00:00, 2328.90it/s]\n"
          ]
        },
        {
          "output_type": "stream",
          "name": "stdout",
          "text": [
            "\n",
            "\n",
            "\n",
            "3. Merge new clusters 890\n"
          ]
        },
        {
          "output_type": "stream",
          "name": "stderr",
          "text": [
            "100%|██████████| 1/1 [00:00<00:00, 33.78it/s]\n",
            "100%|██████████| 607/607 [00:00<00:00, 2377.57it/s]\n"
          ]
        },
        {
          "output_type": "stream",
          "name": "stdout",
          "text": [
            "New merged clusters 607\n",
            "New clusters with min community size >= 3 607\n",
            "Total clusters 1250\n",
            "\n",
            "\n",
            "\n",
            "4. Nearest cluster\n",
            "Unclustured 9692\n",
            "Clusters 1250\n"
          ]
        },
        {
          "output_type": "stream",
          "name": "stderr",
          "text": [
            "100%|██████████| 2/2 [00:00<00:00,  6.05it/s]\n"
          ]
        },
        {
          "output_type": "stream",
          "name": "stdout",
          "text": [
            "Clustured 10314\n",
            "Unclustured 9686\n",
            "Percentage clustured 51.57%\n",
            "\n",
            "\n",
            "\n",
            "1. Nearest cluster\n",
            "Unclustured 9686\n",
            "Clusters 1250\n"
          ]
        },
        {
          "output_type": "stream",
          "name": "stderr",
          "text": [
            "100%|██████████| 2/2 [00:00<00:00,  5.63it/s]\n"
          ]
        },
        {
          "output_type": "stream",
          "name": "stdout",
          "text": [
            "\n",
            "\n",
            "\n",
            "2. Create new clusters\n",
            "Unclustured 9686\n"
          ]
        },
        {
          "output_type": "stream",
          "name": "stderr",
          "text": [
            "100%|██████████| 2/2 [00:02<00:00,  1.04s/it]\n",
            "100%|██████████| 611/611 [00:00<00:00, 2097.35it/s]\n"
          ]
        },
        {
          "output_type": "stream",
          "name": "stdout",
          "text": [
            "\n",
            "\n",
            "\n",
            "3. Merge new clusters 611\n"
          ]
        },
        {
          "output_type": "stream",
          "name": "stderr",
          "text": [
            "100%|██████████| 1/1 [00:00<00:00, 52.53it/s]\n",
            "100%|██████████| 526/526 [00:00<00:00, 2089.60it/s]\n"
          ]
        },
        {
          "output_type": "stream",
          "name": "stdout",
          "text": [
            "New merged clusters 526\n",
            "New clusters with min community size >= 3 526\n",
            "Total clusters 1776\n",
            "\n",
            "\n",
            "\n",
            "4. Nearest cluster\n",
            "Unclustured 6754\n",
            "Clusters 1776\n"
          ]
        },
        {
          "output_type": "stream",
          "name": "stderr",
          "text": [
            "100%|██████████| 2/2 [00:00<00:00,  6.14it/s]\n"
          ]
        },
        {
          "output_type": "stream",
          "name": "stdout",
          "text": [
            "Clustured 13247\n",
            "Unclustured 6753\n",
            "Percentage clustured 66.23%\n",
            "\n",
            "\n",
            "\n",
            "1. Nearest cluster\n",
            "Unclustured 6753\n",
            "Clusters 1776\n"
          ]
        },
        {
          "output_type": "stream",
          "name": "stderr",
          "text": [
            "100%|██████████| 2/2 [00:00<00:00,  6.52it/s]\n"
          ]
        },
        {
          "output_type": "stream",
          "name": "stdout",
          "text": [
            "\n",
            "\n",
            "\n",
            "2. Create new clusters\n",
            "Unclustured 6753\n"
          ]
        },
        {
          "output_type": "stream",
          "name": "stderr",
          "text": [
            "100%|██████████| 2/2 [00:00<00:00,  3.14it/s]\n",
            "100%|██████████| 328/328 [00:00<00:00, 3688.29it/s]\n"
          ]
        },
        {
          "output_type": "stream",
          "name": "stdout",
          "text": [
            "\n",
            "\n",
            "\n",
            "3. Merge new clusters 328\n"
          ]
        },
        {
          "output_type": "stream",
          "name": "stderr",
          "text": [
            "100%|██████████| 1/1 [00:00<00:00, 121.01it/s]\n",
            "100%|██████████| 285/285 [00:00<00:00, 3634.23it/s]\n"
          ]
        },
        {
          "output_type": "stream",
          "name": "stdout",
          "text": [
            "New merged clusters 285\n",
            "New clusters with min community size >= 3 285\n",
            "Total clusters 2061\n",
            "\n",
            "\n",
            "\n",
            "4. Nearest cluster\n",
            "Unclustured 5349\n",
            "Clusters 2061\n"
          ]
        },
        {
          "output_type": "stream",
          "name": "stderr",
          "text": [
            "100%|██████████| 2/2 [00:00<00:00, 10.14it/s]\n"
          ]
        },
        {
          "output_type": "stream",
          "name": "stdout",
          "text": [
            "Clustured 14652\n",
            "Unclustured 5348\n",
            "Percentage clustured 73.26%\n",
            "\n",
            "\n",
            "\n",
            "1. Nearest cluster\n",
            "Unclustured 5348\n",
            "Clusters 2061\n"
          ]
        },
        {
          "output_type": "stream",
          "name": "stderr",
          "text": [
            "100%|██████████| 2/2 [00:00<00:00, 10.65it/s]\n"
          ]
        },
        {
          "output_type": "stream",
          "name": "stdout",
          "text": [
            "\n",
            "\n",
            "\n",
            "2. Create new clusters\n",
            "Unclustured 5348\n"
          ]
        },
        {
          "output_type": "stream",
          "name": "stderr",
          "text": [
            "100%|██████████| 2/2 [00:00<00:00,  4.50it/s]\n",
            "100%|██████████| 164/164 [00:00<00:00, 2893.12it/s]\n"
          ]
        },
        {
          "output_type": "stream",
          "name": "stdout",
          "text": [
            "\n",
            "\n",
            "\n",
            "3. Merge new clusters 164\n"
          ]
        },
        {
          "output_type": "stream",
          "name": "stderr",
          "text": [
            "100%|██████████| 1/1 [00:00<00:00, 260.79it/s]\n",
            "100%|██████████| 153/153 [00:00<00:00, 2334.30it/s]\n"
          ]
        },
        {
          "output_type": "stream",
          "name": "stdout",
          "text": [
            "New merged clusters 153\n",
            "New clusters with min community size >= 3 153\n",
            "Total clusters 2214\n",
            "\n",
            "\n",
            "\n",
            "4. Nearest cluster\n",
            "Unclustured 4760\n",
            "Clusters 2214\n"
          ]
        },
        {
          "output_type": "stream",
          "name": "stderr",
          "text": [
            "100%|██████████| 1/1 [00:00<00:00,  2.54it/s]\n"
          ]
        },
        {
          "output_type": "stream",
          "name": "stdout",
          "text": [
            "Clustured 15240\n",
            "Unclustured 4760\n",
            "Percentage clustured 76.20%\n",
            "\n",
            "\n",
            "\n",
            "1. Nearest cluster\n",
            "Unclustured 4760\n",
            "Clusters 2214\n"
          ]
        },
        {
          "output_type": "stream",
          "name": "stderr",
          "text": [
            "100%|██████████| 1/1 [00:00<00:00,  2.43it/s]\n"
          ]
        },
        {
          "output_type": "stream",
          "name": "stdout",
          "text": [
            "\n",
            "\n",
            "\n",
            "2. Create new clusters\n",
            "Unclustured 4760\n"
          ]
        },
        {
          "output_type": "stream",
          "name": "stderr",
          "text": [
            "100%|██████████| 1/1 [00:00<00:00,  1.35it/s]\n",
            "100%|██████████| 182/182 [00:00<00:00, 3500.27it/s]\n"
          ]
        },
        {
          "output_type": "stream",
          "name": "stdout",
          "text": [
            "\n",
            "\n",
            "\n",
            "3. Merge new clusters 182\n"
          ]
        },
        {
          "output_type": "stream",
          "name": "stderr",
          "text": [
            "100%|██████████| 1/1 [00:00<00:00, 224.14it/s]\n",
            "100%|██████████| 182/182 [00:00<00:00, 3107.31it/s]\n"
          ]
        },
        {
          "output_type": "stream",
          "name": "stdout",
          "text": [
            "New merged clusters 182\n",
            "New clusters with min community size >= 3 182\n",
            "Total clusters 2396\n",
            "\n",
            "\n",
            "\n",
            "4. Nearest cluster\n",
            "Unclustured 4144\n",
            "Clusters 2396\n"
          ]
        },
        {
          "output_type": "stream",
          "name": "stderr",
          "text": [
            "100%|██████████| 1/1 [00:00<00:00,  3.00it/s]\n"
          ]
        },
        {
          "output_type": "stream",
          "name": "stdout",
          "text": [
            "Clustured 15856\n",
            "Unclustured 4144\n",
            "Percentage clustured 79.28%\n",
            "\n",
            "\n",
            "\n",
            "1. Nearest cluster\n",
            "Unclustured 4144\n",
            "Clusters 2396\n"
          ]
        },
        {
          "output_type": "stream",
          "name": "stderr",
          "text": [
            "100%|██████████| 1/1 [00:00<00:00,  2.54it/s]\n"
          ]
        },
        {
          "output_type": "stream",
          "name": "stdout",
          "text": [
            "\n",
            "\n",
            "\n",
            "2. Create new clusters\n",
            "Unclustured 4144\n"
          ]
        },
        {
          "output_type": "stream",
          "name": "stderr",
          "text": [
            "100%|██████████| 1/1 [00:00<00:00,  1.59it/s]\n",
            "100%|██████████| 3/3 [00:00<00:00, 1893.59it/s]\n"
          ]
        },
        {
          "output_type": "stream",
          "name": "stdout",
          "text": [
            "\n",
            "\n",
            "\n",
            "3. Merge new clusters 3\n"
          ]
        },
        {
          "output_type": "stream",
          "name": "stderr",
          "text": [
            "100%|██████████| 1/1 [00:00<00:00, 1771.24it/s]\n",
            "100%|██████████| 3/3 [00:00<00:00, 2635.72it/s]\n"
          ]
        },
        {
          "output_type": "stream",
          "name": "stdout",
          "text": [
            "New merged clusters 3\n",
            "New clusters with min community size >= 3 3\n",
            "Total clusters 2399\n",
            "\n",
            "\n",
            "\n",
            "4. Nearest cluster\n",
            "Unclustured 4135\n",
            "Clusters 2399\n"
          ]
        },
        {
          "output_type": "stream",
          "name": "stderr",
          "text": [
            "100%|██████████| 1/1 [00:00<00:00,  2.73it/s]\n"
          ]
        },
        {
          "output_type": "stream",
          "name": "stdout",
          "text": [
            "Clustured 15865\n",
            "Unclustured 4135\n",
            "Percentage clustured 79.33%\n",
            "\n",
            "\n",
            "\n",
            "1. Nearest cluster\n",
            "Unclustured 4135\n",
            "Clusters 2399\n"
          ]
        },
        {
          "output_type": "stream",
          "name": "stderr",
          "text": [
            "100%|██████████| 1/1 [00:00<00:00,  2.95it/s]\n"
          ]
        },
        {
          "output_type": "stream",
          "name": "stdout",
          "text": [
            "\n",
            "\n",
            "\n",
            "2. Create new clusters\n",
            "Unclustured 4135\n"
          ]
        },
        {
          "output_type": "stream",
          "name": "stderr",
          "text": [
            "100%|██████████| 1/1 [00:00<00:00,  1.64it/s]\n",
            "0it [00:00, ?it/s]"
          ]
        },
        {
          "output_type": "stream",
          "name": "stdout",
          "text": [
            "\n",
            "\n",
            "\n",
            "3. Merge new clusters 0\n"
          ]
        },
        {
          "output_type": "stream",
          "name": "stderr",
          "text": [
            "\n"
          ]
        }
      ]
    },
    {
      "cell_type": "markdown",
      "source": [
        "# SKlearn KMeans Clustering"
      ],
      "metadata": {
        "id": "4D12O3q_t-CT"
      }
    },
    {
      "cell_type": "code",
      "source": [
        "from sklearn.cluster import MiniBatchKMeans, KMeans"
      ],
      "metadata": {
        "id": "5wNLu-wWV1za"
      },
      "execution_count": null,
      "outputs": []
    },
    {
      "cell_type": "code",
      "execution_count": null,
      "metadata": {
        "id": "3hyuaMpm9S6-"
      },
      "outputs": [],
      "source": [
        "tfidf = TfidfVectorizer(stop_words='english', ngram_range=(2,3))"
      ]
    },
    {
      "cell_type": "code",
      "execution_count": null,
      "metadata": {
        "id": "Ejmd3i4v9U5I"
      },
      "outputs": [],
      "source": [
        "#tfidf blocks\n",
        "text_corpus = corpus['TandA']\n",
        "X = tfidf.fit_transform(text_corpus)\n",
        "feature_names = np.array(tfidf.get_feature_names_out())\n",
        "some = corpus['TandA']\n",
        "responses = tfidf.transform(some)"
      ]
    },
    {
      "cell_type": "code",
      "source": [
        "def retNew(arr):\n",
        "  return arr[0]"
      ],
      "metadata": {
        "id": "SBLfiYEQxEKj"
      },
      "execution_count": null,
      "outputs": []
    },
    {
      "cell_type": "code",
      "source": [
        "corpus['Embeddingss'] = corpus['Embeddings'].apply(retNew)"
      ],
      "metadata": {
        "id": "XYY1PD1tw9vW"
      },
      "execution_count": null,
      "outputs": []
    },
    {
      "cell_type": "code",
      "source": [
        "X = np.array(corpus['Embeddingss'].tolist())"
      ],
      "metadata": {
        "id": "V5JC_vzMwxmD"
      },
      "execution_count": null,
      "outputs": []
    },
    {
      "cell_type": "code",
      "source": [
        "clust = KMeans(init = 'k-means++', n_clusters = 200, n_init=10)\n",
        "clust.fit(X)\n",
        "y = clust.predict(X)\n",
        "#corpus['labels'] = clust.labels_"
      ],
      "metadata": {
        "id": "-4Ob7LBLWDDb"
      },
      "execution_count": null,
      "outputs": []
    },
    {
      "cell_type": "code",
      "source": [
        "y = clust.predict(responses)"
      ],
      "metadata": {
        "id": "iZYf-fXkwdcZ"
      },
      "execution_count": null,
      "outputs": []
    },
    {
      "cell_type": "code",
      "source": [
        "corpus['new_clusters'] = y"
      ],
      "metadata": {
        "id": "DwDbpVRqytFl"
      },
      "execution_count": null,
      "outputs": []
    },
    {
      "cell_type": "code",
      "source": [
        "corpus[corpus['new_clusters']==2]"
      ],
      "metadata": {
        "colab": {
          "base_uri": "https://localhost:8080/",
          "height": 1000
        },
        "id": "NpVCuxEzx50d",
        "outputId": "015ea80a-a433-4c98-d474-d27af022637d"
      },
      "execution_count": null,
      "outputs": [
        {
          "output_type": "execute_result",
          "data": {
            "text/plain": [
              "       DocId                                              Title  \\\n",
              "167      168  Blowup dynamics for equivariant critical Landa...   \n",
              "204      205  Gevrey-class-3 regularity of the linearised hy...   \n",
              "210      211  Asymptotically autonomous robustness in Probab...   \n",
              "225      226  Bounds on heat transport for two-dimensional b...   \n",
              "284      285  On the Smoothness of the Solution to the Two-D...   \n",
              "...      ...                                                ...   \n",
              "19130  19131  A chemotaxis-Navier-Stokes system with dynamic...   \n",
              "19269  19270  Some remarks about the stationary Micropolar f...   \n",
              "19412  19413  Global convergence towards pushed travelling f...   \n",
              "19855  19856  Ground states for aggregation-diffusion models...   \n",
              "19867  19868  On Weak Solutions to the Geodesic Equation in ...   \n",
              "\n",
              "                         Date  \\\n",
              "167    [2022/12/31, 2022, 12]   \n",
              "204    [2022/12/31, 2022, 12]   \n",
              "210    [2022/12/31, 2022, 12]   \n",
              "225    [2022/12/31, 2022, 12]   \n",
              "284    [2022/12/31, 2022, 12]   \n",
              "...                       ...   \n",
              "19130   [2023/06/07, 2023, 6]   \n",
              "19269   [2023/06/07, 2023, 6]   \n",
              "19412   [2023/06/07, 2023, 6]   \n",
              "19855   [2023/06/08, 2023, 6]   \n",
              "19867   [2023/06/08, 2023, 6]   \n",
              "\n",
              "                                                 Authors  \\\n",
              "167                        [[Han, Fangyu], [Tan, Zhong]]   \n",
              "204    [[DeAnna, Francesco], [Kortum, Joshua], [Scrob...   \n",
              "210    [[Kinra, Kush], [Mohan, ManilT.], [Wang, Renhai]]   \n",
              "225              [[Bleitner, Fabian], [Nobili, Camilla]]   \n",
              "284                                       [[Wang, Dean]]   \n",
              "...                                                  ...   \n",
              "19130                                    [[Chen, Baili]]   \n",
              "19269  [[Chamorro, Diego], [Llerena, David], [Vergara...   \n",
              "19412     [[Oliver-Bonafoux, Ramon], [Risler, Emmanuel]]   \n",
              "19855              [[Fetecau, RazvanC.], [Park, Hansol]]   \n",
              "19867              [[Reintjes, Moritz], [Temple, Blake]]   \n",
              "\n",
              "                                                Abstract  \\\n",
              "167    The existence of finite time blowup solutions ...   \n",
              "204    In the present paper, we address a physically-...   \n",
              "210    This article is concerned with the \\emph{asymp...   \n",
              "225    We consider the two-dimensional Rayleigh-B\\&#3...   \n",
              "284    In this paper, we deal with the differential p...   \n",
              "...                                                  ...   \n",
              "19130  A chemotaxis-Navier-Stokes system is studied u...   \n",
              "19269  We consider here the stationary Micropolar flu...   \n",
              "19412  This article addresses the issue of global con...   \n",
              "19855  We consider a free energy functional on Cartan...   \n",
              "19867  We show that taking account of bounded curvatu...   \n",
              "\n",
              "                                              Embeddings  Year  Month  \\\n",
              "167    [[-0.3112927079, 0.0429057032, 0.0972931385, 0...  2022     12   \n",
              "204    [[-0.2308457941, 0.1731960475, 0.1035471782, -...  2022     12   \n",
              "210    [[-0.1259972453, -0.1270124912, -0.0470272563,...  2022     12   \n",
              "225    [[-0.0862507522, 0.020923888300000002, 0.18594...  2022     12   \n",
              "284    [[-0.09426344930000001, 0.0453404374, 0.130671...  2022     12   \n",
              "...                                                  ...   ...    ...   \n",
              "19130  [[-0.1032360345, -0.0983073562, 0.348548948800...  2023      6   \n",
              "19269  [[-0.1675479263, 0.07382331040000001, 0.153699...  2023      6   \n",
              "19412  [[-0.06683416660000001, -0.1994747818, 0.04185...  2023      6   \n",
              "19855  [[-0.053919129100000004, -0.2749938965, 0.1916...  2023      6   \n",
              "19867  [[-0.0606150478, -0.046946462200000004, 0.2013...  2023      6   \n",
              "\n",
              "                                      Link  \\\n",
              "167    http://arxiv.org/pdf/2301.00168.pdf   \n",
              "204    http://arxiv.org/pdf/2301.00205.pdf   \n",
              "210    http://arxiv.org/pdf/2301.00211.pdf   \n",
              "225    http://arxiv.org/pdf/2301.00226.pdf   \n",
              "284    http://arxiv.org/pdf/2301.00285.pdf   \n",
              "...                                    ...   \n",
              "19130  http://arxiv.org/pdf/2306.04131.pdf   \n",
              "19269  http://arxiv.org/pdf/2306.04270.pdf   \n",
              "19412  http://arxiv.org/pdf/2306.04413.pdf   \n",
              "19855  http://arxiv.org/pdf/2306.04856.pdf   \n",
              "19867  http://arxiv.org/pdf/2306.04868.pdf   \n",
              "\n",
              "                                                   TandA  cluster_id  \\\n",
              "167    Blowup dynamics equivariant critical flow exis...          62   \n",
              "204    regularity linearised hyperbolic Prandtl syste...          85   \n",
              "210    Asymptotically autonomous robustness Probabili...         170   \n",
              "225    Bounds heat transport buoyancy driven flows ro...           8   \n",
              "284    Smoothness Solution Radiation Transfer Equatio...           2   \n",
              "...                                                  ...         ...   \n",
              "19130  system dynamical boundary conditions system st...          64   \n",
              "19269  remarks stationary Micropolar fluid regularity...         167   \n",
              "19412  Global convergence pushed travelling fronts pa...          64   \n",
              "19855  Ground states models manifolds consider free e...         154   \n",
              "19867  Weak Solutions Geodesic Equation Presence Curv...         167   \n",
              "\n",
              "                                            Keywords_new  \\\n",
              "167    [lowest energy steady, perturbative analysis s...   \n",
              "204    [paper overcome dealing, prandtl given class, ...   \n",
              "210    [random attractors stochastic, asymptotically ...   \n",
              "225    [prove rigorous upper, predicted scaling bound...   \n",
              "284    [radiation transfer estimates, based regularit...   \n",
              "...                                                  ...   \n",
              "19130  [dynamical boundary conditions, layers approxi...   \n",
              "19269  [stationary micropolar fluid, microrotations f...   \n",
              "19412  [greater linear spreading, speed greater linea...   \n",
              "19855  [ground states models, infinity attractive pot...   \n",
              "19867  [original example limits, presence curvature b...   \n",
              "\n",
              "                                             DocKeywords  \\\n",
              "167    [lowest energy steady, perturbative analysis s...   \n",
              "204    [paper overcome dealing, prandtl given class, ...   \n",
              "210    [random attractors stochastic, asymptotically ...   \n",
              "225    [prove rigorous upper, predicted scaling bound...   \n",
              "284    [radiation transfer estimates, based regularit...   \n",
              "...                                                  ...   \n",
              "19130  [dynamical boundary conditions, layers approxi...   \n",
              "19269  [stationary micropolar fluid, microrotations f...   \n",
              "19412  [greater linear spreading, speed greater linea...   \n",
              "19855  [ground states models, infinity attractive pot...   \n",
              "19867  [original example limits, presence curvature b...   \n",
              "\n",
              "                                             Embeddingss  new_clusters  \n",
              "167    [-0.3112927079, 0.0429057032, 0.0972931385, 0....             2  \n",
              "204    [-0.2308457941, 0.1731960475, 0.1035471782, -0...             2  \n",
              "210    [-0.1259972453, -0.1270124912, -0.0470272563, ...             2  \n",
              "225    [-0.0862507522, 0.020923888300000002, 0.185940...             2  \n",
              "284    [-0.09426344930000001, 0.0453404374, 0.1306715...             2  \n",
              "...                                                  ...           ...  \n",
              "19130  [-0.1032360345, -0.0983073562, 0.3485489488000...             2  \n",
              "19269  [-0.1675479263, 0.07382331040000001, 0.1536990...             2  \n",
              "19412  [-0.06683416660000001, -0.1994747818, 0.041858...             2  \n",
              "19855  [-0.053919129100000004, -0.2749938965, 0.19164...             2  \n",
              "19867  [-0.0606150478, -0.046946462200000004, 0.20138...             2  \n",
              "\n",
              "[122 rows x 15 columns]"
            ],
            "text/html": [
              "\n",
              "  <div id=\"df-7179c7d3-6b25-451d-b752-5ebebac5f9c2\" class=\"colab-df-container\">\n",
              "    <div>\n",
              "<style scoped>\n",
              "    .dataframe tbody tr th:only-of-type {\n",
              "        vertical-align: middle;\n",
              "    }\n",
              "\n",
              "    .dataframe tbody tr th {\n",
              "        vertical-align: top;\n",
              "    }\n",
              "\n",
              "    .dataframe thead th {\n",
              "        text-align: right;\n",
              "    }\n",
              "</style>\n",
              "<table border=\"1\" class=\"dataframe\">\n",
              "  <thead>\n",
              "    <tr style=\"text-align: right;\">\n",
              "      <th></th>\n",
              "      <th>DocId</th>\n",
              "      <th>Title</th>\n",
              "      <th>Date</th>\n",
              "      <th>Authors</th>\n",
              "      <th>Abstract</th>\n",
              "      <th>Embeddings</th>\n",
              "      <th>Year</th>\n",
              "      <th>Month</th>\n",
              "      <th>Link</th>\n",
              "      <th>TandA</th>\n",
              "      <th>cluster_id</th>\n",
              "      <th>Keywords_new</th>\n",
              "      <th>DocKeywords</th>\n",
              "      <th>Embeddingss</th>\n",
              "      <th>new_clusters</th>\n",
              "    </tr>\n",
              "  </thead>\n",
              "  <tbody>\n",
              "    <tr>\n",
              "      <th>167</th>\n",
              "      <td>168</td>\n",
              "      <td>Blowup dynamics for equivariant critical Landa...</td>\n",
              "      <td>[2022/12/31, 2022, 12]</td>\n",
              "      <td>[[Han, Fangyu], [Tan, Zhong]]</td>\n",
              "      <td>The existence of finite time blowup solutions ...</td>\n",
              "      <td>[[-0.3112927079, 0.0429057032, 0.0972931385, 0...</td>\n",
              "      <td>2022</td>\n",
              "      <td>12</td>\n",
              "      <td>http://arxiv.org/pdf/2301.00168.pdf</td>\n",
              "      <td>Blowup dynamics equivariant critical flow exis...</td>\n",
              "      <td>62</td>\n",
              "      <td>[lowest energy steady, perturbative analysis s...</td>\n",
              "      <td>[lowest energy steady, perturbative analysis s...</td>\n",
              "      <td>[-0.3112927079, 0.0429057032, 0.0972931385, 0....</td>\n",
              "      <td>2</td>\n",
              "    </tr>\n",
              "    <tr>\n",
              "      <th>204</th>\n",
              "      <td>205</td>\n",
              "      <td>Gevrey-class-3 regularity of the linearised hy...</td>\n",
              "      <td>[2022/12/31, 2022, 12]</td>\n",
              "      <td>[[DeAnna, Francesco], [Kortum, Joshua], [Scrob...</td>\n",
              "      <td>In the present paper, we address a physically-...</td>\n",
              "      <td>[[-0.2308457941, 0.1731960475, 0.1035471782, -...</td>\n",
              "      <td>2022</td>\n",
              "      <td>12</td>\n",
              "      <td>http://arxiv.org/pdf/2301.00205.pdf</td>\n",
              "      <td>regularity linearised hyperbolic Prandtl syste...</td>\n",
              "      <td>85</td>\n",
              "      <td>[paper overcome dealing, prandtl given class, ...</td>\n",
              "      <td>[paper overcome dealing, prandtl given class, ...</td>\n",
              "      <td>[-0.2308457941, 0.1731960475, 0.1035471782, -0...</td>\n",
              "      <td>2</td>\n",
              "    </tr>\n",
              "    <tr>\n",
              "      <th>210</th>\n",
              "      <td>211</td>\n",
              "      <td>Asymptotically autonomous robustness in Probab...</td>\n",
              "      <td>[2022/12/31, 2022, 12]</td>\n",
              "      <td>[[Kinra, Kush], [Mohan, ManilT.], [Wang, Renhai]]</td>\n",
              "      <td>This article is concerned with the \\emph{asymp...</td>\n",
              "      <td>[[-0.1259972453, -0.1270124912, -0.0470272563,...</td>\n",
              "      <td>2022</td>\n",
              "      <td>12</td>\n",
              "      <td>http://arxiv.org/pdf/2301.00211.pdf</td>\n",
              "      <td>Asymptotically autonomous robustness Probabili...</td>\n",
              "      <td>170</td>\n",
              "      <td>[random attractors stochastic, asymptotically ...</td>\n",
              "      <td>[random attractors stochastic, asymptotically ...</td>\n",
              "      <td>[-0.1259972453, -0.1270124912, -0.0470272563, ...</td>\n",
              "      <td>2</td>\n",
              "    </tr>\n",
              "    <tr>\n",
              "      <th>225</th>\n",
              "      <td>226</td>\n",
              "      <td>Bounds on heat transport for two-dimensional b...</td>\n",
              "      <td>[2022/12/31, 2022, 12]</td>\n",
              "      <td>[[Bleitner, Fabian], [Nobili, Camilla]]</td>\n",
              "      <td>We consider the two-dimensional Rayleigh-B\\&amp;#3...</td>\n",
              "      <td>[[-0.0862507522, 0.020923888300000002, 0.18594...</td>\n",
              "      <td>2022</td>\n",
              "      <td>12</td>\n",
              "      <td>http://arxiv.org/pdf/2301.00226.pdf</td>\n",
              "      <td>Bounds heat transport buoyancy driven flows ro...</td>\n",
              "      <td>8</td>\n",
              "      <td>[prove rigorous upper, predicted scaling bound...</td>\n",
              "      <td>[prove rigorous upper, predicted scaling bound...</td>\n",
              "      <td>[-0.0862507522, 0.020923888300000002, 0.185940...</td>\n",
              "      <td>2</td>\n",
              "    </tr>\n",
              "    <tr>\n",
              "      <th>284</th>\n",
              "      <td>285</td>\n",
              "      <td>On the Smoothness of the Solution to the Two-D...</td>\n",
              "      <td>[2022/12/31, 2022, 12]</td>\n",
              "      <td>[[Wang, Dean]]</td>\n",
              "      <td>In this paper, we deal with the differential p...</td>\n",
              "      <td>[[-0.09426344930000001, 0.0453404374, 0.130671...</td>\n",
              "      <td>2022</td>\n",
              "      <td>12</td>\n",
              "      <td>http://arxiv.org/pdf/2301.00285.pdf</td>\n",
              "      <td>Smoothness Solution Radiation Transfer Equatio...</td>\n",
              "      <td>2</td>\n",
              "      <td>[radiation transfer estimates, based regularit...</td>\n",
              "      <td>[radiation transfer estimates, based regularit...</td>\n",
              "      <td>[-0.09426344930000001, 0.0453404374, 0.1306715...</td>\n",
              "      <td>2</td>\n",
              "    </tr>\n",
              "    <tr>\n",
              "      <th>...</th>\n",
              "      <td>...</td>\n",
              "      <td>...</td>\n",
              "      <td>...</td>\n",
              "      <td>...</td>\n",
              "      <td>...</td>\n",
              "      <td>...</td>\n",
              "      <td>...</td>\n",
              "      <td>...</td>\n",
              "      <td>...</td>\n",
              "      <td>...</td>\n",
              "      <td>...</td>\n",
              "      <td>...</td>\n",
              "      <td>...</td>\n",
              "      <td>...</td>\n",
              "      <td>...</td>\n",
              "    </tr>\n",
              "    <tr>\n",
              "      <th>19130</th>\n",
              "      <td>19131</td>\n",
              "      <td>A chemotaxis-Navier-Stokes system with dynamic...</td>\n",
              "      <td>[2023/06/07, 2023, 6]</td>\n",
              "      <td>[[Chen, Baili]]</td>\n",
              "      <td>A chemotaxis-Navier-Stokes system is studied u...</td>\n",
              "      <td>[[-0.1032360345, -0.0983073562, 0.348548948800...</td>\n",
              "      <td>2023</td>\n",
              "      <td>6</td>\n",
              "      <td>http://arxiv.org/pdf/2306.04131.pdf</td>\n",
              "      <td>system dynamical boundary conditions system st...</td>\n",
              "      <td>64</td>\n",
              "      <td>[dynamical boundary conditions, layers approxi...</td>\n",
              "      <td>[dynamical boundary conditions, layers approxi...</td>\n",
              "      <td>[-0.1032360345, -0.0983073562, 0.3485489488000...</td>\n",
              "      <td>2</td>\n",
              "    </tr>\n",
              "    <tr>\n",
              "      <th>19269</th>\n",
              "      <td>19270</td>\n",
              "      <td>Some remarks about the stationary Micropolar f...</td>\n",
              "      <td>[2023/06/07, 2023, 6]</td>\n",
              "      <td>[[Chamorro, Diego], [Llerena, David], [Vergara...</td>\n",
              "      <td>We consider here the stationary Micropolar flu...</td>\n",
              "      <td>[[-0.1675479263, 0.07382331040000001, 0.153699...</td>\n",
              "      <td>2023</td>\n",
              "      <td>6</td>\n",
              "      <td>http://arxiv.org/pdf/2306.04270.pdf</td>\n",
              "      <td>remarks stationary Micropolar fluid regularity...</td>\n",
              "      <td>167</td>\n",
              "      <td>[stationary micropolar fluid, microrotations f...</td>\n",
              "      <td>[stationary micropolar fluid, microrotations f...</td>\n",
              "      <td>[-0.1675479263, 0.07382331040000001, 0.1536990...</td>\n",
              "      <td>2</td>\n",
              "    </tr>\n",
              "    <tr>\n",
              "      <th>19412</th>\n",
              "      <td>19413</td>\n",
              "      <td>Global convergence towards pushed travelling f...</td>\n",
              "      <td>[2023/06/07, 2023, 6]</td>\n",
              "      <td>[[Oliver-Bonafoux, Ramon], [Risler, Emmanuel]]</td>\n",
              "      <td>This article addresses the issue of global con...</td>\n",
              "      <td>[[-0.06683416660000001, -0.1994747818, 0.04185...</td>\n",
              "      <td>2023</td>\n",
              "      <td>6</td>\n",
              "      <td>http://arxiv.org/pdf/2306.04413.pdf</td>\n",
              "      <td>Global convergence pushed travelling fronts pa...</td>\n",
              "      <td>64</td>\n",
              "      <td>[greater linear spreading, speed greater linea...</td>\n",
              "      <td>[greater linear spreading, speed greater linea...</td>\n",
              "      <td>[-0.06683416660000001, -0.1994747818, 0.041858...</td>\n",
              "      <td>2</td>\n",
              "    </tr>\n",
              "    <tr>\n",
              "      <th>19855</th>\n",
              "      <td>19856</td>\n",
              "      <td>Ground states for aggregation-diffusion models...</td>\n",
              "      <td>[2023/06/08, 2023, 6]</td>\n",
              "      <td>[[Fetecau, RazvanC.], [Park, Hansol]]</td>\n",
              "      <td>We consider a free energy functional on Cartan...</td>\n",
              "      <td>[[-0.053919129100000004, -0.2749938965, 0.1916...</td>\n",
              "      <td>2023</td>\n",
              "      <td>6</td>\n",
              "      <td>http://arxiv.org/pdf/2306.04856.pdf</td>\n",
              "      <td>Ground states models manifolds consider free e...</td>\n",
              "      <td>154</td>\n",
              "      <td>[ground states models, infinity attractive pot...</td>\n",
              "      <td>[ground states models, infinity attractive pot...</td>\n",
              "      <td>[-0.053919129100000004, -0.2749938965, 0.19164...</td>\n",
              "      <td>2</td>\n",
              "    </tr>\n",
              "    <tr>\n",
              "      <th>19867</th>\n",
              "      <td>19868</td>\n",
              "      <td>On Weak Solutions to the Geodesic Equation in ...</td>\n",
              "      <td>[2023/06/08, 2023, 6]</td>\n",
              "      <td>[[Reintjes, Moritz], [Temple, Blake]]</td>\n",
              "      <td>We show that taking account of bounded curvatu...</td>\n",
              "      <td>[[-0.0606150478, -0.046946462200000004, 0.2013...</td>\n",
              "      <td>2023</td>\n",
              "      <td>6</td>\n",
              "      <td>http://arxiv.org/pdf/2306.04868.pdf</td>\n",
              "      <td>Weak Solutions Geodesic Equation Presence Curv...</td>\n",
              "      <td>167</td>\n",
              "      <td>[original example limits, presence curvature b...</td>\n",
              "      <td>[original example limits, presence curvature b...</td>\n",
              "      <td>[-0.0606150478, -0.046946462200000004, 0.20138...</td>\n",
              "      <td>2</td>\n",
              "    </tr>\n",
              "  </tbody>\n",
              "</table>\n",
              "<p>122 rows × 15 columns</p>\n",
              "</div>\n",
              "    <div class=\"colab-df-buttons\">\n",
              "\n",
              "  <div class=\"colab-df-container\">\n",
              "    <button class=\"colab-df-convert\" onclick=\"convertToInteractive('df-7179c7d3-6b25-451d-b752-5ebebac5f9c2')\"\n",
              "            title=\"Convert this dataframe to an interactive table.\"\n",
              "            style=\"display:none;\">\n",
              "\n",
              "  <svg xmlns=\"http://www.w3.org/2000/svg\" height=\"24px\" viewBox=\"0 -960 960 960\">\n",
              "    <path d=\"M120-120v-720h720v720H120Zm60-500h600v-160H180v160Zm220 220h160v-160H400v160Zm0 220h160v-160H400v160ZM180-400h160v-160H180v160Zm440 0h160v-160H620v160ZM180-180h160v-160H180v160Zm440 0h160v-160H620v160Z\"/>\n",
              "  </svg>\n",
              "    </button>\n",
              "\n",
              "  <style>\n",
              "    .colab-df-container {\n",
              "      display:flex;\n",
              "      gap: 12px;\n",
              "    }\n",
              "\n",
              "    .colab-df-convert {\n",
              "      background-color: #E8F0FE;\n",
              "      border: none;\n",
              "      border-radius: 50%;\n",
              "      cursor: pointer;\n",
              "      display: none;\n",
              "      fill: #1967D2;\n",
              "      height: 32px;\n",
              "      padding: 0 0 0 0;\n",
              "      width: 32px;\n",
              "    }\n",
              "\n",
              "    .colab-df-convert:hover {\n",
              "      background-color: #E2EBFA;\n",
              "      box-shadow: 0px 1px 2px rgba(60, 64, 67, 0.3), 0px 1px 3px 1px rgba(60, 64, 67, 0.15);\n",
              "      fill: #174EA6;\n",
              "    }\n",
              "\n",
              "    .colab-df-buttons div {\n",
              "      margin-bottom: 4px;\n",
              "    }\n",
              "\n",
              "    [theme=dark] .colab-df-convert {\n",
              "      background-color: #3B4455;\n",
              "      fill: #D2E3FC;\n",
              "    }\n",
              "\n",
              "    [theme=dark] .colab-df-convert:hover {\n",
              "      background-color: #434B5C;\n",
              "      box-shadow: 0px 1px 3px 1px rgba(0, 0, 0, 0.15);\n",
              "      filter: drop-shadow(0px 1px 2px rgba(0, 0, 0, 0.3));\n",
              "      fill: #FFFFFF;\n",
              "    }\n",
              "  </style>\n",
              "\n",
              "    <script>\n",
              "      const buttonEl =\n",
              "        document.querySelector('#df-7179c7d3-6b25-451d-b752-5ebebac5f9c2 button.colab-df-convert');\n",
              "      buttonEl.style.display =\n",
              "        google.colab.kernel.accessAllowed ? 'block' : 'none';\n",
              "\n",
              "      async function convertToInteractive(key) {\n",
              "        const element = document.querySelector('#df-7179c7d3-6b25-451d-b752-5ebebac5f9c2');\n",
              "        const dataTable =\n",
              "          await google.colab.kernel.invokeFunction('convertToInteractive',\n",
              "                                                    [key], {});\n",
              "        if (!dataTable) return;\n",
              "\n",
              "        const docLinkHtml = 'Like what you see? Visit the ' +\n",
              "          '<a target=\"_blank\" href=https://colab.research.google.com/notebooks/data_table.ipynb>data table notebook</a>'\n",
              "          + ' to learn more about interactive tables.';\n",
              "        element.innerHTML = '';\n",
              "        dataTable['output_type'] = 'display_data';\n",
              "        await google.colab.output.renderOutput(dataTable, element);\n",
              "        const docLink = document.createElement('div');\n",
              "        docLink.innerHTML = docLinkHtml;\n",
              "        element.appendChild(docLink);\n",
              "      }\n",
              "    </script>\n",
              "  </div>\n",
              "\n",
              "\n",
              "<div id=\"df-119c5d33-c28f-482e-9cda-0a00393ff035\">\n",
              "  <button class=\"colab-df-quickchart\" onclick=\"quickchart('df-119c5d33-c28f-482e-9cda-0a00393ff035')\"\n",
              "            title=\"Suggest charts\"\n",
              "            style=\"display:none;\">\n",
              "\n",
              "<svg xmlns=\"http://www.w3.org/2000/svg\" height=\"24px\"viewBox=\"0 0 24 24\"\n",
              "     width=\"24px\">\n",
              "    <g>\n",
              "        <path d=\"M19 3H5c-1.1 0-2 .9-2 2v14c0 1.1.9 2 2 2h14c1.1 0 2-.9 2-2V5c0-1.1-.9-2-2-2zM9 17H7v-7h2v7zm4 0h-2V7h2v10zm4 0h-2v-4h2v4z\"/>\n",
              "    </g>\n",
              "</svg>\n",
              "  </button>\n",
              "\n",
              "<style>\n",
              "  .colab-df-quickchart {\n",
              "      --bg-color: #E8F0FE;\n",
              "      --fill-color: #1967D2;\n",
              "      --hover-bg-color: #E2EBFA;\n",
              "      --hover-fill-color: #174EA6;\n",
              "      --disabled-fill-color: #AAA;\n",
              "      --disabled-bg-color: #DDD;\n",
              "  }\n",
              "\n",
              "  [theme=dark] .colab-df-quickchart {\n",
              "      --bg-color: #3B4455;\n",
              "      --fill-color: #D2E3FC;\n",
              "      --hover-bg-color: #434B5C;\n",
              "      --hover-fill-color: #FFFFFF;\n",
              "      --disabled-bg-color: #3B4455;\n",
              "      --disabled-fill-color: #666;\n",
              "  }\n",
              "\n",
              "  .colab-df-quickchart {\n",
              "    background-color: var(--bg-color);\n",
              "    border: none;\n",
              "    border-radius: 50%;\n",
              "    cursor: pointer;\n",
              "    display: none;\n",
              "    fill: var(--fill-color);\n",
              "    height: 32px;\n",
              "    padding: 0;\n",
              "    width: 32px;\n",
              "  }\n",
              "\n",
              "  .colab-df-quickchart:hover {\n",
              "    background-color: var(--hover-bg-color);\n",
              "    box-shadow: 0 1px 2px rgba(60, 64, 67, 0.3), 0 1px 3px 1px rgba(60, 64, 67, 0.15);\n",
              "    fill: var(--button-hover-fill-color);\n",
              "  }\n",
              "\n",
              "  .colab-df-quickchart-complete:disabled,\n",
              "  .colab-df-quickchart-complete:disabled:hover {\n",
              "    background-color: var(--disabled-bg-color);\n",
              "    fill: var(--disabled-fill-color);\n",
              "    box-shadow: none;\n",
              "  }\n",
              "\n",
              "  .colab-df-spinner {\n",
              "    border: 2px solid var(--fill-color);\n",
              "    border-color: transparent;\n",
              "    border-bottom-color: var(--fill-color);\n",
              "    animation:\n",
              "      spin 1s steps(1) infinite;\n",
              "  }\n",
              "\n",
              "  @keyframes spin {\n",
              "    0% {\n",
              "      border-color: transparent;\n",
              "      border-bottom-color: var(--fill-color);\n",
              "      border-left-color: var(--fill-color);\n",
              "    }\n",
              "    20% {\n",
              "      border-color: transparent;\n",
              "      border-left-color: var(--fill-color);\n",
              "      border-top-color: var(--fill-color);\n",
              "    }\n",
              "    30% {\n",
              "      border-color: transparent;\n",
              "      border-left-color: var(--fill-color);\n",
              "      border-top-color: var(--fill-color);\n",
              "      border-right-color: var(--fill-color);\n",
              "    }\n",
              "    40% {\n",
              "      border-color: transparent;\n",
              "      border-right-color: var(--fill-color);\n",
              "      border-top-color: var(--fill-color);\n",
              "    }\n",
              "    60% {\n",
              "      border-color: transparent;\n",
              "      border-right-color: var(--fill-color);\n",
              "    }\n",
              "    80% {\n",
              "      border-color: transparent;\n",
              "      border-right-color: var(--fill-color);\n",
              "      border-bottom-color: var(--fill-color);\n",
              "    }\n",
              "    90% {\n",
              "      border-color: transparent;\n",
              "      border-bottom-color: var(--fill-color);\n",
              "    }\n",
              "  }\n",
              "</style>\n",
              "\n",
              "  <script>\n",
              "    async function quickchart(key) {\n",
              "      const quickchartButtonEl =\n",
              "        document.querySelector('#' + key + ' button');\n",
              "      quickchartButtonEl.disabled = true;  // To prevent multiple clicks.\n",
              "      quickchartButtonEl.classList.add('colab-df-spinner');\n",
              "      try {\n",
              "        const charts = await google.colab.kernel.invokeFunction(\n",
              "            'suggestCharts', [key], {});\n",
              "      } catch (error) {\n",
              "        console.error('Error during call to suggestCharts:', error);\n",
              "      }\n",
              "      quickchartButtonEl.classList.remove('colab-df-spinner');\n",
              "      quickchartButtonEl.classList.add('colab-df-quickchart-complete');\n",
              "    }\n",
              "    (() => {\n",
              "      let quickchartButtonEl =\n",
              "        document.querySelector('#df-119c5d33-c28f-482e-9cda-0a00393ff035 button');\n",
              "      quickchartButtonEl.style.display =\n",
              "        google.colab.kernel.accessAllowed ? 'block' : 'none';\n",
              "    })();\n",
              "  </script>\n",
              "</div>\n",
              "\n",
              "    </div>\n",
              "  </div>\n"
            ]
          },
          "metadata": {},
          "execution_count": 20
        }
      ]
    },
    {
      "cell_type": "code",
      "source": [
        "corpus.to_json('corpusss.json')"
      ],
      "metadata": {
        "id": "OY_GieuT1yGj"
      },
      "execution_count": null,
      "outputs": []
    },
    {
      "cell_type": "markdown",
      "source": [
        "# Choosing k"
      ],
      "metadata": {
        "id": "G_eTEkUzUfmD"
      }
    },
    {
      "cell_type": "code",
      "source": [
        "import matplotlib.pyplot as plt\n",
        "\n",
        "# Determine the optimal number of clusters using the Elbow method\n",
        "wcss = []  # within-cluster sum of squares\n",
        "for k in range(50, 350, 50):\n",
        "    kmeans = KMeans(n_clusters=k, random_state=42)\n",
        "    kmeans.fit(X)\n",
        "    wcss.append(kmeans.inertia_)"
      ],
      "metadata": {
        "id": "C2uYFsF2JZew",
        "colab": {
          "base_uri": "https://localhost:8080/"
        },
        "outputId": "cff0bb7f-da8e-4918-8b4f-12e83a0633d8"
      },
      "execution_count": null,
      "outputs": [
        {
          "output_type": "stream",
          "name": "stderr",
          "text": [
            "/usr/local/lib/python3.10/dist-packages/sklearn/cluster/_kmeans.py:870: FutureWarning: The default value of `n_init` will change from 10 to 'auto' in 1.4. Set the value of `n_init` explicitly to suppress the warning\n",
            "  warnings.warn(\n",
            "/usr/local/lib/python3.10/dist-packages/sklearn/cluster/_kmeans.py:870: FutureWarning: The default value of `n_init` will change from 10 to 'auto' in 1.4. Set the value of `n_init` explicitly to suppress the warning\n",
            "  warnings.warn(\n",
            "/usr/local/lib/python3.10/dist-packages/sklearn/cluster/_kmeans.py:870: FutureWarning: The default value of `n_init` will change from 10 to 'auto' in 1.4. Set the value of `n_init` explicitly to suppress the warning\n",
            "  warnings.warn(\n",
            "/usr/local/lib/python3.10/dist-packages/sklearn/cluster/_kmeans.py:870: FutureWarning: The default value of `n_init` will change from 10 to 'auto' in 1.4. Set the value of `n_init` explicitly to suppress the warning\n",
            "  warnings.warn(\n",
            "/usr/local/lib/python3.10/dist-packages/sklearn/cluster/_kmeans.py:870: FutureWarning: The default value of `n_init` will change from 10 to 'auto' in 1.4. Set the value of `n_init` explicitly to suppress the warning\n",
            "  warnings.warn(\n",
            "/usr/local/lib/python3.10/dist-packages/sklearn/cluster/_kmeans.py:870: FutureWarning: The default value of `n_init` will change from 10 to 'auto' in 1.4. Set the value of `n_init` explicitly to suppress the warning\n",
            "  warnings.warn(\n"
          ]
        }
      ]
    },
    {
      "cell_type": "code",
      "source": [
        "wcss"
      ],
      "metadata": {
        "colab": {
          "base_uri": "https://localhost:8080/"
        },
        "id": "x1tiSAanXgML",
        "outputId": "f939da41-6806-4acc-a9a7-6243a18c5cd6"
      },
      "execution_count": null,
      "outputs": [
        {
          "output_type": "execute_result",
          "data": {
            "text/plain": [
              "[88088.8620128427,\n",
              " 83721.3233298657,\n",
              " 81193.90588257584,\n",
              " 79357.48156839744,\n",
              " 77916.7788558857,\n",
              " 76826.61776300805]"
            ]
          },
          "metadata": {},
          "execution_count": 134
        }
      ]
    },
    {
      "cell_type": "code",
      "source": [
        "# Plot the Elbow method\n",
        "plt.figure(figsize=(10, 6))\n",
        "plt.plot([50,100,150,200,250,300], wcss, marker='o', linestyle='--')\n",
        "plt.xlabel('Number of Clusters')\n",
        "plt.ylabel('Within-Cluster Sum of Squares')\n",
        "plt.title('Elbow Method for Optimal Number of Clusters')\n",
        "plt.grid(True)\n",
        "plt.show()"
      ],
      "metadata": {
        "colab": {
          "base_uri": "https://localhost:8080/",
          "height": 564
        },
        "id": "bPjez_zJXZRw",
        "outputId": "ba51db24-0979-4fb7-ae29-6c32e38a6809"
      },
      "execution_count": null,
      "outputs": [
        {
          "output_type": "display_data",
          "data": {
            "text/plain": [
              "<Figure size 1000x600 with 1 Axes>"
            ],
            "image/png": "[encoded data removed]"
          },
          "metadata": {}
        }
      ]
    },
    {
      "cell_type": "markdown",
      "source": [
        "# Visualizing with Decomposed Vectors"
      ],
      "metadata": {
        "id": "oyb2t2DuYsuN"
      }
    },
    {
      "cell_type": "code",
      "source": [
        "import scipy\n",
        "import seaborn as sns\n",
        "import matplotlib.pyplot as plt"
      ],
      "metadata": {
        "id": "j9T9j7DyZa5t"
      },
      "execution_count": null,
      "outputs": []
    },
    {
      "cell_type": "code",
      "source": [
        "#sampling clusters 0- 50\n",
        "df = corpus[corpus['new_clusters']<10]\n",
        "#df = corpus[corpus['cluster_id']<10]"
      ],
      "metadata": {
        "id": "kgCvV8U4-R2l"
      },
      "execution_count": null,
      "outputs": []
    },
    {
      "cell_type": "code",
      "source": [
        "somes = np.array(list(df['Embeddingss']))"
      ],
      "metadata": {
        "id": "cHxhS2CdZDzy"
      },
      "execution_count": null,
      "outputs": []
    },
    {
      "cell_type": "code",
      "source": [
        "from sklearn.decomposition import PCA\n",
        "\n",
        "# Initialize PCA and reduce dimensionality to 2 components\n",
        "pca = PCA(n_components=2)\n",
        "reduced_tfidf = pca.fit_transform(somes)\n",
        "\n",
        "reduced_tfidf.shape"
      ],
      "metadata": {
        "id": "a0iaLM1dY-MY",
        "colab": {
          "base_uri": "https://localhost:8080/"
        },
        "outputId": "7852f9d1-5026-4ade-d20f-4100ff841478"
      },
      "execution_count": null,
      "outputs": [
        {
          "output_type": "execute_result",
          "data": {
            "text/plain": [
              "(1012, 2)"
            ]
          },
          "metadata": {},
          "execution_count": 126
        }
      ]
    },
    {
      "cell_type": "code",
      "source": [
        "corpus.columns"
      ],
      "metadata": {
        "colab": {
          "base_uri": "https://localhost:8080/"
        },
        "id": "1ntNPPr28hRE",
        "outputId": "87f12030-6dac-4164-e0e5-c9176aae7faf"
      },
      "execution_count": null,
      "outputs": [
        {
          "output_type": "execute_result",
          "data": {
            "text/plain": [
              "Index(['DocId', 'Title', 'Date', 'Authors', 'Abstract', 'Embeddings', 'Year',\n",
              "       'Month', 'Link', 'TandA', 'cluster_id', 'Keywords_new', 'DocKeywords',\n",
              "       'Embeddingss', 'new_clusters'],\n",
              "      dtype='object')"
            ]
          },
          "metadata": {},
          "execution_count": 79
        }
      ]
    },
    {
      "cell_type": "code",
      "source": [
        "# Create DF\n",
        "embeddingsdf = pd.DataFrame()\n",
        "# Add game names\n",
        "embeddingsdf['title'] = df.Title\n",
        "embeddingsdf['tfidf_cluster'] = df.cluster_id\n",
        "embeddingsdf['bert_cluster'] = df.new_clusters\n",
        "# Add x coordinate\n",
        "embeddingsdf['x'] = reduced_tfidf[:,0]\n",
        "# Add y coordinate\n",
        "embeddingsdf['y'] = reduced_tfidf[:,1]\n",
        "# Check\n",
        "embeddingsdf.head()"
      ],
      "metadata": {
        "colab": {
          "base_uri": "https://localhost:8080/",
          "height": 206
        },
        "id": "UOcXLrhq4pqp",
        "outputId": "838d3922-3938-43ea-8d0f-6ab74f208bc3"
      },
      "execution_count": null,
      "outputs": [
        {
          "output_type": "execute_result",
          "data": {
            "text/plain": [
              "                                                title  tfidf_cluster  \\\n",
              "0                                              NFTrig             98   \n",
              "4   Intrinsic Motivation in Dynamical Control Systems            146   \n",
              "8   On the Geometry of Reinforcement Learning in C...            191   \n",
              "12  Don&#39;t throw that video away! Reference Fra...             85   \n",
              "31            Bayesian Learning for Dynamic Inference              2   \n",
              "\n",
              "    bert_cluster         x         y  \n",
              "0              5  0.066803  0.310267  \n",
              "4              8 -0.454930 -0.514777  \n",
              "8              8 -0.452092 -0.700594  \n",
              "12             4 -0.753614  0.962656  \n",
              "31             9 -0.263266 -0.595538  "
            ],
            "text/html": [
              "\n",
              "  <div id=\"df-3bfefe04-2a78-4f74-ab8a-432ee5026571\" class=\"colab-df-container\">\n",
              "    <div>\n",
              "<style scoped>\n",
              "    .dataframe tbody tr th:only-of-type {\n",
              "        vertical-align: middle;\n",
              "    }\n",
              "\n",
              "    .dataframe tbody tr th {\n",
              "        vertical-align: top;\n",
              "    }\n",
              "\n",
              "    .dataframe thead th {\n",
              "        text-align: right;\n",
              "    }\n",
              "</style>\n",
              "<table border=\"1\" class=\"dataframe\">\n",
              "  <thead>\n",
              "    <tr style=\"text-align: right;\">\n",
              "      <th></th>\n",
              "      <th>title</th>\n",
              "      <th>tfidf_cluster</th>\n",
              "      <th>bert_cluster</th>\n",
              "      <th>x</th>\n",
              "      <th>y</th>\n",
              "    </tr>\n",
              "  </thead>\n",
              "  <tbody>\n",
              "    <tr>\n",
              "      <th>0</th>\n",
              "      <td>NFTrig</td>\n",
              "      <td>98</td>\n",
              "      <td>5</td>\n",
              "      <td>0.066803</td>\n",
              "      <td>0.310267</td>\n",
              "    </tr>\n",
              "    <tr>\n",
              "      <th>4</th>\n",
              "      <td>Intrinsic Motivation in Dynamical Control Systems</td>\n",
              "      <td>146</td>\n",
              "      <td>8</td>\n",
              "      <td>-0.454930</td>\n",
              "      <td>-0.514777</td>\n",
              "    </tr>\n",
              "    <tr>\n",
              "      <th>8</th>\n",
              "      <td>On the Geometry of Reinforcement Learning in C...</td>\n",
              "      <td>191</td>\n",
              "      <td>8</td>\n",
              "      <td>-0.452092</td>\n",
              "      <td>-0.700594</td>\n",
              "    </tr>\n",
              "    <tr>\n",
              "      <th>12</th>\n",
              "      <td>Don&amp;#39;t throw that video away! Reference Fra...</td>\n",
              "      <td>85</td>\n",
              "      <td>4</td>\n",
              "      <td>-0.753614</td>\n",
              "      <td>0.962656</td>\n",
              "    </tr>\n",
              "    <tr>\n",
              "      <th>31</th>\n",
              "      <td>Bayesian Learning for Dynamic Inference</td>\n",
              "      <td>2</td>\n",
              "      <td>9</td>\n",
              "      <td>-0.263266</td>\n",
              "      <td>-0.595538</td>\n",
              "    </tr>\n",
              "  </tbody>\n",
              "</table>\n",
              "</div>\n",
              "    <div class=\"colab-df-buttons\">\n",
              "\n",
              "  <div class=\"colab-df-container\">\n",
              "    <button class=\"colab-df-convert\" onclick=\"convertToInteractive('df-3bfefe04-2a78-4f74-ab8a-432ee5026571')\"\n",
              "            title=\"Convert this dataframe to an interactive table.\"\n",
              "            style=\"display:none;\">\n",
              "\n",
              "  <svg xmlns=\"http://www.w3.org/2000/svg\" height=\"24px\" viewBox=\"0 -960 960 960\">\n",
              "    <path d=\"M120-120v-720h720v720H120Zm60-500h600v-160H180v160Zm220 220h160v-160H400v160Zm0 220h160v-160H400v160ZM180-400h160v-160H180v160Zm440 0h160v-160H620v160ZM180-180h160v-160H180v160Zm440 0h160v-160H620v160Z\"/>\n",
              "  </svg>\n",
              "    </button>\n",
              "\n",
              "  <style>\n",
              "    .colab-df-container {\n",
              "      display:flex;\n",
              "      gap: 12px;\n",
              "    }\n",
              "\n",
              "    .colab-df-convert {\n",
              "      background-color: #E8F0FE;\n",
              "      border: none;\n",
              "      border-radius: 50%;\n",
              "      cursor: pointer;\n",
              "      display: none;\n",
              "      fill: #1967D2;\n",
              "      height: 32px;\n",
              "      padding: 0 0 0 0;\n",
              "      width: 32px;\n",
              "    }\n",
              "\n",
              "    .colab-df-convert:hover {\n",
              "      background-color: #E2EBFA;\n",
              "      box-shadow: 0px 1px 2px rgba(60, 64, 67, 0.3), 0px 1px 3px 1px rgba(60, 64, 67, 0.15);\n",
              "      fill: #174EA6;\n",
              "    }\n",
              "\n",
              "    .colab-df-buttons div {\n",
              "      margin-bottom: 4px;\n",
              "    }\n",
              "\n",
              "    [theme=dark] .colab-df-convert {\n",
              "      background-color: #3B4455;\n",
              "      fill: #D2E3FC;\n",
              "    }\n",
              "\n",
              "    [theme=dark] .colab-df-convert:hover {\n",
              "      background-color: #434B5C;\n",
              "      box-shadow: 0px 1px 3px 1px rgba(0, 0, 0, 0.15);\n",
              "      filter: drop-shadow(0px 1px 2px rgba(0, 0, 0, 0.3));\n",
              "      fill: #FFFFFF;\n",
              "    }\n",
              "  </style>\n",
              "\n",
              "    <script>\n",
              "      const buttonEl =\n",
              "        document.querySelector('#df-3bfefe04-2a78-4f74-ab8a-432ee5026571 button.colab-df-convert');\n",
              "      buttonEl.style.display =\n",
              "        google.colab.kernel.accessAllowed ? 'block' : 'none';\n",
              "\n",
              "      async function convertToInteractive(key) {\n",
              "        const element = document.querySelector('#df-3bfefe04-2a78-4f74-ab8a-432ee5026571');\n",
              "        const dataTable =\n",
              "          await google.colab.kernel.invokeFunction('convertToInteractive',\n",
              "                                                    [key], {});\n",
              "        if (!dataTable) return;\n",
              "\n",
              "        const docLinkHtml = 'Like what you see? Visit the ' +\n",
              "          '<a target=\"_blank\" href=https://colab.research.google.com/notebooks/data_table.ipynb>data table notebook</a>'\n",
              "          + ' to learn more about interactive tables.';\n",
              "        element.innerHTML = '';\n",
              "        dataTable['output_type'] = 'display_data';\n",
              "        await google.colab.output.renderOutput(dataTable, element);\n",
              "        const docLink = document.createElement('div');\n",
              "        docLink.innerHTML = docLinkHtml;\n",
              "        element.appendChild(docLink);\n",
              "      }\n",
              "    </script>\n",
              "  </div>\n",
              "\n",
              "\n",
              "<div id=\"df-2e0fe77b-9cbb-4470-9ccc-7ce9b86c1ccc\">\n",
              "  <button class=\"colab-df-quickchart\" onclick=\"quickchart('df-2e0fe77b-9cbb-4470-9ccc-7ce9b86c1ccc')\"\n",
              "            title=\"Suggest charts\"\n",
              "            style=\"display:none;\">\n",
              "\n",
              "<svg xmlns=\"http://www.w3.org/2000/svg\" height=\"24px\"viewBox=\"0 0 24 24\"\n",
              "     width=\"24px\">\n",
              "    <g>\n",
              "        <path d=\"M19 3H5c-1.1 0-2 .9-2 2v14c0 1.1.9 2 2 2h14c1.1 0 2-.9 2-2V5c0-1.1-.9-2-2-2zM9 17H7v-7h2v7zm4 0h-2V7h2v10zm4 0h-2v-4h2v4z\"/>\n",
              "    </g>\n",
              "</svg>\n",
              "  </button>\n",
              "\n",
              "<style>\n",
              "  .colab-df-quickchart {\n",
              "      --bg-color: #E8F0FE;\n",
              "      --fill-color: #1967D2;\n",
              "      --hover-bg-color: #E2EBFA;\n",
              "      --hover-fill-color: #174EA6;\n",
              "      --disabled-fill-color: #AAA;\n",
              "      --disabled-bg-color: #DDD;\n",
              "  }\n",
              "\n",
              "  [theme=dark] .colab-df-quickchart {\n",
              "      --bg-color: #3B4455;\n",
              "      --fill-color: #D2E3FC;\n",
              "      --hover-bg-color: #434B5C;\n",
              "      --hover-fill-color: #FFFFFF;\n",
              "      --disabled-bg-color: #3B4455;\n",
              "      --disabled-fill-color: #666;\n",
              "  }\n",
              "\n",
              "  .colab-df-quickchart {\n",
              "    background-color: var(--bg-color);\n",
              "    border: none;\n",
              "    border-radius: 50%;\n",
              "    cursor: pointer;\n",
              "    display: none;\n",
              "    fill: var(--fill-color);\n",
              "    height: 32px;\n",
              "    padding: 0;\n",
              "    width: 32px;\n",
              "  }\n",
              "\n",
              "  .colab-df-quickchart:hover {\n",
              "    background-color: var(--hover-bg-color);\n",
              "    box-shadow: 0 1px 2px rgba(60, 64, 67, 0.3), 0 1px 3px 1px rgba(60, 64, 67, 0.15);\n",
              "    fill: var(--button-hover-fill-color);\n",
              "  }\n",
              "\n",
              "  .colab-df-quickchart-complete:disabled,\n",
              "  .colab-df-quickchart-complete:disabled:hover {\n",
              "    background-color: var(--disabled-bg-color);\n",
              "    fill: var(--disabled-fill-color);\n",
              "    box-shadow: none;\n",
              "  }\n",
              "\n",
              "  .colab-df-spinner {\n",
              "    border: 2px solid var(--fill-color);\n",
              "    border-color: transparent;\n",
              "    border-bottom-color: var(--fill-color);\n",
              "    animation:\n",
              "      spin 1s steps(1) infinite;\n",
              "  }\n",
              "\n",
              "  @keyframes spin {\n",
              "    0% {\n",
              "      border-color: transparent;\n",
              "      border-bottom-color: var(--fill-color);\n",
              "      border-left-color: var(--fill-color);\n",
              "    }\n",
              "    20% {\n",
              "      border-color: transparent;\n",
              "      border-left-color: var(--fill-color);\n",
              "      border-top-color: var(--fill-color);\n",
              "    }\n",
              "    30% {\n",
              "      border-color: transparent;\n",
              "      border-left-color: var(--fill-color);\n",
              "      border-top-color: var(--fill-color);\n",
              "      border-right-color: var(--fill-color);\n",
              "    }\n",
              "    40% {\n",
              "      border-color: transparent;\n",
              "      border-right-color: var(--fill-color);\n",
              "      border-top-color: var(--fill-color);\n",
              "    }\n",
              "    60% {\n",
              "      border-color: transparent;\n",
              "      border-right-color: var(--fill-color);\n",
              "    }\n",
              "    80% {\n",
              "      border-color: transparent;\n",
              "      border-right-color: var(--fill-color);\n",
              "      border-bottom-color: var(--fill-color);\n",
              "    }\n",
              "    90% {\n",
              "      border-color: transparent;\n",
              "      border-bottom-color: var(--fill-color);\n",
              "    }\n",
              "  }\n",
              "</style>\n",
              "\n",
              "  <script>\n",
              "    async function quickchart(key) {\n",
              "      const quickchartButtonEl =\n",
              "        document.querySelector('#' + key + ' button');\n",
              "      quickchartButtonEl.disabled = true;  // To prevent multiple clicks.\n",
              "      quickchartButtonEl.classList.add('colab-df-spinner');\n",
              "      try {\n",
              "        const charts = await google.colab.kernel.invokeFunction(\n",
              "            'suggestCharts', [key], {});\n",
              "      } catch (error) {\n",
              "        console.error('Error during call to suggestCharts:', error);\n",
              "      }\n",
              "      quickchartButtonEl.classList.remove('colab-df-spinner');\n",
              "      quickchartButtonEl.classList.add('colab-df-quickchart-complete');\n",
              "    }\n",
              "    (() => {\n",
              "      let quickchartButtonEl =\n",
              "        document.querySelector('#df-2e0fe77b-9cbb-4470-9ccc-7ce9b86c1ccc button');\n",
              "      quickchartButtonEl.style.display =\n",
              "        google.colab.kernel.accessAllowed ? 'block' : 'none';\n",
              "    })();\n",
              "  </script>\n",
              "</div>\n",
              "\n",
              "    </div>\n",
              "  </div>\n"
            ]
          },
          "metadata": {},
          "execution_count": 127
        }
      ]
    },
    {
      "cell_type": "code",
      "source": [
        "\n",
        "# Create a scatter plot\n",
        "fig1 = sns.scatterplot(x=embeddingsdf['x'], y=embeddingsdf['y'], hue=embeddingsdf['tfidf_cluster'], palette='dark',s = 20, legend=False)\n",
        "\n",
        "# Add labels and title\n",
        "plt.xlabel('')\n",
        "plt.ylabel('')\n",
        "plt.title('TF-IDF Embeddings')\n",
        "\n",
        "# Show the plot\n",
        "plt.show()"
      ],
      "metadata": {
        "colab": {
          "base_uri": "https://localhost:8080/",
          "height": 452
        },
        "id": "ALqrjtUb739-",
        "outputId": "d90682f9-7c2b-417a-b444-209a5bd7bd9c"
      },
      "execution_count": null,
      "outputs": [
        {
          "output_type": "display_data",
          "data": {
            "text/plain": [
              "<Figure size 640x480 with 1 Axes>"
            ],
            "image/png": "[encoded data removed]"
          },
          "metadata": {}
        }
      ]
    },
    {
      "cell_type": "code",
      "source": [
        "fig = fig1.get_figure()\n",
        "fig.savefig('tfidf', bbox_inches='tight')"
      ],
      "metadata": {
        "id": "7JJr2GEMBByk"
      },
      "execution_count": null,
      "outputs": []
    },
    {
      "cell_type": "code",
      "source": [
        "# Create a scatter plot\n",
        "fig2 = sns.scatterplot(x=embeddingsdf['x'], y=embeddingsdf['y'], hue=embeddingsdf['bert_cluster'], palette='dark',s = 20, legend=False)\n",
        "\n",
        "# Add labels and title\n",
        "plt.xlabel('')\n",
        "plt.ylabel('')\n",
        "plt.title('TF-IDF Embeddings')\n",
        "\n",
        "# Show the plot\n",
        "plt.show()"
      ],
      "metadata": {
        "colab": {
          "base_uri": "https://localhost:8080/",
          "height": 452
        },
        "id": "nvqgJ7BWCNDJ",
        "outputId": "20aa8a80-0bbc-4cc7-dc92-c116fdca9e68"
      },
      "execution_count": null,
      "outputs": [
        {
          "output_type": "display_data",
          "data": {
            "text/plain": [
              "<Figure size 640x480 with 1 Axes>"
            ],
            "image/png": "[encoded data removed]"
          },
          "metadata": {}
        }
      ]
    },
    {
      "cell_type": "code",
      "source": [
        "fig = fig2.get_figure()\n",
        "fig.savefig('bert', bbox_inches='tight')"
      ],
      "metadata": {
        "id": "hCJiXovLCTVT"
      },
      "execution_count": null,
      "outputs": []
    }
  ],
  "metadata": {
    "accelerator": "GPU",
    "colab": {
      "provenance": [],
      "collapsed_sections": [
        "58g4cJ6lYSV5",
        "U7LYTR7iaG0o",
        "R13qQmJxRNVl",
        "4D12O3q_t-CT",
        "G_eTEkUzUfmD"
      ]
    },
    "kernelspec": {
      "display_name": "Python 3",
      "name": "python3"
    },
    "language_info": {
      "name": "python"
    }
  },
  "nbformat": 4,
  "nbformat_minor": 0
}